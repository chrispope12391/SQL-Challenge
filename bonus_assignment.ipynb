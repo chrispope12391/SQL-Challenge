{
 "cells": [
  {
   "cell_type": "code",
   "execution_count": null,
   "metadata": {},
   "outputs": [],
   "source": [
    "import pandas as pd\n",
    "import matplotlib.pyplot as plt\n",
    "import numpy as np\n",
    "from config import (user, password, host, port, database)\n"
   ]
  },
  {
   "cell_type": "code",
   "execution_count": null,
   "metadata": {},
   "outputs": [],
   "source": [
    "from sqlalchemy import create_engine\n",
    "engine = create_engine(f'postgresql://{user}:{password}@{host}:{port}/{database}')\n",
    "conn = engine.connect()"
   ]
  },
  {
   "cell_type": "code",
   "execution_count": null,
   "metadata": {},
   "outputs": [],
   "source": [
    "department_data = pd.read_sql(\"SELECT * FROM departments\", conn)\n",
    "dept_emp_data = pd.read_sql(\"SELECT * FROM dept_emp\", conn)\n",
    "dept_manager_data = pd.read_sql(\"SELECT * FROM dept_manager\", conn)\n",
    "employee_data = pd.read_sql(\"SELECT * FROM employees\", conn)\n",
    "salary_data = pd.read_sql(\"SELECT * FROM salaries\", conn)\n",
    "titles_data = pd.read_sql(\"SELECT * FROM titles\", conn)\n",
    "\n",
    "employee_data = employee_data.rename(columns={\"emp_title_id\":\"title_id\"})\n",
    "employee_data"
   ]
  },
  {
   "cell_type": "code",
   "execution_count": null,
   "metadata": {},
   "outputs": [],
   "source": [
    "salary_data.loc[salary_data['salary'] > 125000]"
   ]
  },
  {
   "cell_type": "code",
   "execution_count": null,
   "metadata": {},
   "outputs": [],
   "source": [
    "bins = [0, 9999, 19999, 29999, 39999, 49999, 59999, 69999, 79999, 89999, 99999, 109999, 119999, 129999]\n",
    "\n",
    "salary_labels = [\"0 to 9,999\", \"10,000 to 19,999\", \"20,000 to 29,999\", \"30,000 to 39,999\", \"40,000 to 49,999\", \n",
    "                 \"50,000 to 59,999\", \"60,000 to 69,999\", \"70,000 to 79,999\", \"80,000 to 89,999\", \"90,000 to 99,999\",\n",
    "                \"100,000 to 109,999\", \"110,000 to 119,999\", \"120,000 to 129,999\"]"
   ]
  },
  {
   "cell_type": "code",
   "execution_count": null,
   "metadata": {},
   "outputs": [],
   "source": [
    "salary_data[\"Salary Range\"] = pd.cut(salary_data[\"salary\"], bins, labels = salary_labels)\n",
    "salary_data"
   ]
  },
  {
   "cell_type": "code",
   "execution_count": null,
   "metadata": {
    "scrolled": true
   },
   "outputs": [],
   "source": [
    "count_data = salary_data.groupby(\"Salary Range\")\n",
    "count = count_data.count()\n",
    "clean_count = count['salary']\n",
    "clean_count"
   ]
  },
  {
   "cell_type": "code",
   "execution_count": null,
   "metadata": {},
   "outputs": [],
   "source": [
    "salary_graph = clean_count.plot(kind='hist', figsize=(10,10))\n",
    "plt.title(\"Salary Range by Count\")\n",
    "plt.xlabel(\"Salary Range\")\n",
    "\n",
    "plt.grid()\n",
    "plt.show()"
   ]
  },
  {
   "cell_type": "code",
   "execution_count": null,
   "metadata": {},
   "outputs": [],
   "source": [
    "first_merge = pd.merge(employee_data, titles_data, on=\"title_id\")\n",
    "final_merge = pd.merge(first_merge, salary_data, on=\"emp_no\")\n",
    "clean_merge = final_merge[[\"title\",\"salary\"]]\n",
    "clean_merge"
   ]
  },
  {
   "cell_type": "code",
   "execution_count": null,
   "metadata": {},
   "outputs": [],
   "source": [
    "groupby_merge = clean_merge.groupby([\"title\"])\n",
    "avg_merge = round(groupby_merge.mean(),2)"
   ]
  },
  {
   "cell_type": "code",
   "execution_count": null,
   "metadata": {},
   "outputs": [],
   "source": [
    "avg_graph = avg_merge.plot(kind=\"bar\", figsize =(10,10))\n",
    "avg_graph\n",
    "\n",
    "plt.title(\"Average Salary by Title\")\n",
    "plt.ylabel(\"Salary Amount\")\n",
    "\n",
    "plt.grid()\n",
    "plt.show()"
   ]
  }
 ],
 "metadata": {
  "kernelspec": {
   "display_name": "Python 3",
   "language": "python",
   "name": "python3"
  },
  "language_info": {
   "codemirror_mode": {
    "name": "ipython",
    "version": 3
   },
   "file_extension": ".py",
   "mimetype": "text/x-python",
   "name": "python",
   "nbconvert_exporter": "python",
   "pygments_lexer": "ipython3",
   "version": "3.6.10"
  }
 },
 "nbformat": 4,
 "nbformat_minor": 4
}

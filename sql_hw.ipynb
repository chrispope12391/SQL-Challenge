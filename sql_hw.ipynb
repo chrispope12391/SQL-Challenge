{
 "cells": [
  {
   "cell_type": "code",
   "execution_count": null,
   "metadata": {},
   "outputs": [],
   "source": [
    "import pandas as pd\n",
    "import matplotlib.pyplot as plt\n",
    "import numpy as np\n",
    "from config import (user, password, host, port, database)\n"
   ]
  },
  {
   "cell_type": "code",
   "execution_count": null,
   "metadata": {},
   "outputs": [],
   "source": [
    "from sqlalchemy import create_engine\n",
    "engine = create_engine(f'postgresql://{user}:{password}@{host}:{port}/{database}')\n",
    "conn = engine.connect()"
   ]
  },
  {
   "cell_type": "code",
   "execution_count": null,
   "metadata": {},
   "outputs": [],
   "source": [
    "department_data = pd.read_sql(\"SELECT * FROM departments\", conn)\n",
    "dept_emp_data = pd.read_sql(\"SELECT * FROM dept_emp\", conn)\n",
    "dept_manager_data = pd.read_sql(\"SELECT * FROM dept_manager\", conn)\n",
    "employee_data = pd.read_sql(\"SELECT * FROM employees\", conn)\n",
    "salary_data = pd.read_sql(\"SELECT * FROM salaries\", conn)\n",
    "titles_data = pd.read_sql(\"SELECT * FROM titles\", conn)\n",
    "\n",
    "salary_data"
   ]
  }
 ],
 "metadata": {
  "kernelspec": {
   "display_name": "Python 3",
   "language": "python",
   "name": "python3"
  },
  "language_info": {
   "codemirror_mode": {
    "name": "ipython",
    "version": 3
   },
   "file_extension": ".py",
   "mimetype": "text/x-python",
   "name": "python",
   "nbconvert_exporter": "python",
   "pygments_lexer": "ipython3",
   "version": "3.6.10"
  }
 },
 "nbformat": 4,
 "nbformat_minor": 4
}
